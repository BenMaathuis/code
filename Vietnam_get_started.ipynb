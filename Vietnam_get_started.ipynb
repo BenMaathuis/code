{
 "cells": [
  {
   "cell_type": "markdown",
   "metadata": {
    "colab_type": "text",
    "id": "Ou_oQJBrRxsA"
   },
   "source": [
    "# Get Started with Earth Engine\n",
    "\n",
    "This Get Started guide is intended as a quick way to start programming with the Earth Engine Python API. For an introductory look at Python and more in-depth exercises with the Earth Engine API, see the [tutorials](https://github.com/giswqs/earthengine-py-notebooks). For suggestions on Python coding style, see the [Google Python Style Guide](http://google.github.io/styleguide/pyguide.html).[link text](https://)\n",
    "\n",
    "Google Earth Engine allows users to run algorithms on georeferenced imagery and vectors stored on Google's infrastructure. The Google Earth Engine API provides a library of functions which may be applied to data for display and analysis. Earth Engine's [public data catalog](https://developers.google.com/earth-engine/datasets/) contains a large amount of publicly available imagery and vector datasets. Private assets can also be created in users' personal folders.\n"
   ]
  },
  {
   "cell_type": "markdown",
   "metadata": {
    "colab_type": "text",
    "id": "HAXUSh3jaRCt"
   },
   "source": [
    "## Installing the Earth Engine API"
   ]
  },
  {
   "cell_type": "code",
   "execution_count": 1,
   "metadata": {
    "colab": {},
    "colab_type": "code",
    "id": "KhWWe9Y-TAzZ"
   },
   "outputs": [],
   "source": [
    "# Installs geemap package\n",
    "# !pip install geemap\n",
    "\n",
    "import geemap\n"
   ]
  },
  {
   "cell_type": "markdown",
   "metadata": {
    "colab_type": "text",
    "id": "OGUbVwc9a31e"
   },
   "source": [
    "Import libraries"
   ]
  },
  {
   "cell_type": "markdown",
   "metadata": {
    "colab_type": "text",
    "id": "f8jXYIUcbEJd"
   },
   "source": [
    "Authenticate and initialize Earth Engine API. You only need to authenticate the Earth Engine API once. Uncomment the line `ee.Authenticate()` \n",
    "if you are running this notebook for this first time or if you are getting an authentication error.  "
   ]
  },
  {
   "cell_type": "code",
   "execution_count": 2,
   "metadata": {
    "colab": {},
    "colab_type": "code",
    "id": "wBgIAFCsbB1Y"
   },
   "outputs": [],
   "source": [
    "# Authenticates and initializes Earth Engine\n",
    "import ee\n",
    "#ee.Authenticate()\n",
    "ee.Initialize()"
   ]
  },
  {
   "cell_type": "markdown",
   "metadata": {
    "colab_type": "text",
    "id": "XiacQTXbZvwK"
   },
   "source": [
    "## ‘Hello world!’\n",
    "Printing out information to the console is a basic task for getting information about an object, displaying the numeric result of a computation, displaying object metadata or helping with debugging. The iconic ‘Hello World!’ example is:"
   ]
  },
  {
   "cell_type": "code",
   "execution_count": 3,
   "metadata": {
    "colab": {
     "base_uri": "https://localhost:8080/",
     "height": 34
    },
    "colab_type": "code",
    "executionInfo": {
     "elapsed": 9005,
     "status": "ok",
     "timestamp": 1580323485429,
     "user": {
      "displayName": "Qiusheng Wu",
      "photoUrl": "https://lh3.googleusercontent.com/a-/AAuE7mClnrRJt-9CiCsZmUOfCdngabcoPR4UAFqqj1vY=s64",
      "userId": "16932034244543127511"
     },
     "user_tz": 300
    },
    "id": "kEihQHMfZpTR",
    "outputId": "52b2f20c-4782-47ab-f1e5-dd5a0466969f"
   },
   "outputs": [
    {
     "name": "stdout",
     "output_type": "stream",
     "text": [
      "Hello world!\n"
     ]
    }
   ],
   "source": [
    "# traditional python string\n",
    "print('Hello world!')"
   ]
  },
  {
   "cell_type": "code",
   "execution_count": 4,
   "metadata": {
    "colab": {
     "base_uri": "https://localhost:8080/",
     "height": 34
    },
    "colab_type": "code",
    "executionInfo": {
     "elapsed": 8996,
     "status": "ok",
     "timestamp": 1580323485431,
     "user": {
      "displayName": "Qiusheng Wu",
      "photoUrl": "https://lh3.googleusercontent.com/a-/AAuE7mClnrRJt-9CiCsZmUOfCdngabcoPR4UAFqqj1vY=s64",
      "userId": "16932034244543127511"
     },
     "user_tz": 300
    },
    "id": "DHCA26YIaMJc",
    "outputId": "ed5a2340-f62e-4cca-aee2-5ca5ab532451"
   },
   "outputs": [
    {
     "name": "stdout",
     "output_type": "stream",
     "text": [
      "Hello World from Vietnam!\n"
     ]
    }
   ],
   "source": [
    "# Earth Eninge object\n",
    "print(ee.String('Hello World from Vietnam!').getInfo())"
   ]
  },
  {
   "cell_type": "markdown",
   "metadata": {
    "colab_type": "text",
    "id": "UOiWRQ3NcVO4"
   },
   "source": [
    "## Create an interactive map \n",
    "This step creates an interactive map. The default basemap is the OpenStreetMap. Additional basemaps can be added using the `Map.add_basemap()` function. \n",
    "The optional basemaps can be `ROADMAP`, `SATELLITE`, `HYBRID`, `TERRAIN`, or `ESRI`."
   ]
  },
  {
   "cell_type": "code",
   "execution_count": 3,
   "metadata": {
    "colab": {},
    "colab_type": "code",
    "id": "oVI0eKCqcWHQ"
   },
   "outputs": [
    {
     "data": {
      "application/vnd.jupyter.widget-view+json": {
       "model_id": "0078d290fb234129bfad24cd520d2a54",
       "version_major": 2,
       "version_minor": 0
      },
      "text/plain": [
       "Map(center=[21.5, 105], controls=(WidgetControl(options=['position'], widget=HBox(children=(ToggleButton(value…"
      ]
     },
     "metadata": {},
     "output_type": "display_data"
    }
   ],
   "source": [
    "Map = geemap.Map(center=[21.5,105], zoom= 10)\n",
    "Map"
   ]
  },
  {
   "cell_type": "markdown",
   "metadata": {
    "colab_type": "text",
    "id": "4jvERCGPb-fp"
   },
   "source": [
    "## Adding data to the map\n",
    "In addition to printing information to the console, adding data to the Map is the way to visualize geographic data. Use Map.addLayer() to do that. In the following example, an Image is instantiated (how to find these images is covered later) using ee.Image(), added to the map with Map.addLayer() and the map is centered over the image:"
   ]
  },
  {
   "cell_type": "code",
   "execution_count": 4,
   "metadata": {
    "colab": {
     "base_uri": "https://localhost:8080/",
     "height": 907
    },
    "colab_type": "code",
    "executionInfo": {
     "elapsed": 14568,
     "status": "ok",
     "timestamp": 1580323491057,
     "user": {
      "displayName": "Qiusheng Wu",
      "photoUrl": "https://lh3.googleusercontent.com/a-/AAuE7mClnrRJt-9CiCsZmUOfCdngabcoPR4UAFqqj1vY=s64",
      "userId": "16932034244543127511"
     },
     "user_tz": 300
    },
    "id": "PIxWBP2MS_lU",
    "outputId": "2c5456e2-19a7-45ae-886a-85b756fc0a61"
   },
   "outputs": [
    {
     "data": {
      "application/vnd.jupyter.widget-view+json": {
       "model_id": "3aa70ab2780a4a13828a491670042c31",
       "version_major": 2,
       "version_minor": 0
      },
      "text/plain": [
       "Map(center=[21.5, 105], controls=(WidgetControl(options=['position'], widget=HBox(children=(ToggleButton(value…"
      ]
     },
     "metadata": {},
     "output_type": "display_data"
    }
   ],
   "source": [
    "# define area of interest and time range \n",
    "area_Int = ee.Geometry.Rectangle(104.5, 21, 105.5, 22)\n",
    "start = ee.Date('2020-01-01')\n",
    "finish = ee.Date('2020-05-01')\n",
    "\n",
    "# Import the Sentinel 2 collection as sentinel 2\n",
    "sentinel2 = ee.ImageCollection(\"COPERNICUS/S2\");\n",
    "\n",
    "Map = geemap.Map(center=[21.5,105], zoom= 9)\n",
    "Map.add_basemap('OpenTopoMap')\n",
    "Map.add_basemap('HYBRID')\n",
    "Map.addLayer(area_Int, {}, 'Area of Interest');\n",
    "Map"
   ]
  },
  {
   "cell_type": "code",
   "execution_count": 5,
   "metadata": {
    "colab": {},
    "colab_type": "code",
    "id": "VSLLC2SdZh_W"
   },
   "outputs": [],
   "source": [
    "# Filter the image collection using filterBounds() and filterDate() method.\n",
    "# Sort the collection by cloud cover metadata\n",
    "# Create the mosaic image and clip it to the area of interest\n",
    "\n",
    "image_dry = sentinel2.filterBounds(area_Int) \\\n",
    " .filterDate('2020-01-01', '2020-04-30') \\\n",
    " .sort('CLOUDY_PIXEL_PERCENTAGE', False) \\\n",
    " .mosaic() \\\n",
    " .clip(area_Int)\n",
    "  \n",
    "image_wet = sentinel2.filterDate('2020-06-01', '2020-10-31') \\\n",
    " .filterBounds(area_Int) \\\n",
    " .sort('CLOUDY_PIXEL_PERCENTAGE', False) \\\n",
    " .mosaic() \\\n",
    " .clip(area_Int)\n",
    "  \n",
    "\n",
    "# Palettes for Visualization\n",
    "trueColor_palette = {'bands': ['B4', 'B3', 'B2'], 'min': 0, 'max': 1500};\n",
    "\n"
   ]
  },
  {
   "cell_type": "markdown",
   "metadata": {
    "colab_type": "text",
    "id": "RzbPdNnuchJL"
   },
   "source": [
    "## Display Earth Engine data layers "
   ]
  },
  {
   "cell_type": "code",
   "execution_count": 6,
   "metadata": {
    "colab": {
     "base_uri": "https://localhost:8080/",
     "height": 907
    },
    "colab_type": "code",
    "executionInfo": {
     "elapsed": 12037,
     "status": "ok",
     "timestamp": 1580323488511,
     "user": {
      "displayName": "Qiusheng Wu",
      "photoUrl": "https://lh3.googleusercontent.com/a-/AAuE7mClnrRJt-9CiCsZmUOfCdngabcoPR4UAFqqj1vY=s64",
      "userId": "16932034244543127511"
     },
     "user_tz": 300
    },
    "id": "eXBlZDmvch5u",
    "outputId": "e456cc78-21f4-43d1-b4d3-850884ed07ef"
   },
   "outputs": [
    {
     "data": {
      "application/vnd.jupyter.widget-view+json": {
       "model_id": "d70baf763ac34de89ac52a188505a4cf",
       "version_major": 2,
       "version_minor": 0
      },
      "text/plain": [
       "Map(center=[21.5, 105], controls=(WidgetControl(options=['position'], widget=HBox(children=(ToggleButton(value…"
      ]
     },
     "metadata": {},
     "output_type": "display_data"
    }
   ],
   "source": [
    "# Display Earth Engine True Color Images layers in Dry Season\n",
    "\n",
    "Map = geemap.Map(center=[21.5,105], zoom= 9)\n",
    "Map.addLayer(image_dry, trueColor_palette, '2020 Dry season true color');\n",
    "\n",
    "\n",
    "# Also display Earth Engine True Color Images layers in Wet Season\n",
    "\n",
    "Map.addLayer(image_wet, trueColor_palette, '2020 Wet season true color');\n",
    "Map"
   ]
  },
  {
   "cell_type": "markdown",
   "metadata": {
    "colab_type": "text",
    "id": "oTBbng00hqid"
   },
   "source": [
    "## Display NDVI \n",
    "Display the resulting index maps\n",
    "NDVI for Sentinel 2 = (NIR-Red) / (NIR+Red)\n",
    "NIR = band 8\n",
    "Red = band 4\n",
    "Useful for detection of greeness of vegetation or bare areas"
   ]
  },
  {
   "cell_type": "code",
   "execution_count": 7,
   "metadata": {
    "colab": {},
    "colab_type": "code",
    "id": "JOHuqUzasnl-"
   },
   "outputs": [
    {
     "data": {
      "application/vnd.jupyter.widget-view+json": {
       "model_id": "195f9e51b0e243dd9e3c65eea6553516",
       "version_major": 2,
       "version_minor": 0
      },
      "text/plain": [
       "Map(center=[21.5, 105], controls=(WidgetControl(options=['position'], widget=HBox(children=(ToggleButton(value…"
      ]
     },
     "metadata": {},
     "output_type": "display_data"
    }
   ],
   "source": [
    "# Compute NDVI.\n",
    "\n",
    "ndvi_dry = image_dry.normalizedDifference(['B8', 'B4']);\n",
    "ndvi_wet = image_wet.normalizedDifference(['B8', 'B4']);\n",
    "\n",
    "# Display Earth Engine NDVI Image layer with a color palette for the 2020 Dry Season and Wet Seaason\n",
    "\n",
    "\n",
    "vis_params = {\n",
    "  'min': 0.0,\n",
    "  'max': 1.0,\n",
    "  'palette': [\n",
    "    'FFFFFF', 'CE7E45', 'DF923D', 'F1B555', 'FCD163', '99B718', '74A901',\n",
    "    '66A000', '529400', '3E8601', '207401', '056201', '004C00', '023B01',\n",
    "    '012E01', '011D01', '011301'\n",
    "  ],\n",
    "}\n",
    "\n",
    "Map2 = geemap.Map(center=[21.5,105], zoom= 9)\n",
    "\n",
    "Map2.addLayer(ndvi_dry, vis_params,  \"NDVI_dry\")\n",
    "Map2.addLayer(ndvi_wet, vis_params, \"NDVI_wet\")\n",
    "Map2.add_colorbar(vis_params, label=\"NDVI\", layer_name=\"NDVI\")\n",
    "Map2"
   ]
  },
  {
   "cell_type": "markdown",
   "metadata": {
    "colab_type": "text",
    "id": "oTBbng00hqid"
   },
   "source": [
    "## Display NDWI \n",
    "Display the resulting index maps NDWI for Sentinel 2 = (Green-NIR) / (Green+NIR) Green = band 3 NIR = band 8 - useful for detection of water bodies"
   ]
  },
  {
   "cell_type": "code",
   "execution_count": 8,
   "metadata": {
    "colab": {
     "base_uri": "https://localhost:8080/",
     "height": 907
    },
    "colab_type": "code",
    "executionInfo": {
     "elapsed": 16161,
     "status": "ok",
     "timestamp": 1580323492667,
     "user": {
      "displayName": "Qiusheng Wu",
      "photoUrl": "https://lh3.googleusercontent.com/a-/AAuE7mClnrRJt-9CiCsZmUOfCdngabcoPR4UAFqqj1vY=s64",
      "userId": "16932034244543127511"
     },
     "user_tz": 300
    },
    "id": "N6eYjSfBhxPo",
    "outputId": "bf59576b-7c9c-497b-84cc-ab9d032ee990"
   },
   "outputs": [
    {
     "data": {
      "application/vnd.jupyter.widget-view+json": {
       "model_id": "941f9f9c754547d6b2e5f7040145a4b6",
       "version_major": 2,
       "version_minor": 0
      },
      "text/plain": [
       "Map(center=[21.5, 105], controls=(WidgetControl(options=['position'], widget=HBox(children=(ToggleButton(value…"
      ]
     },
     "metadata": {},
     "output_type": "display_data"
    }
   ],
   "source": [
    "# Display Earth Engine NDWI Image layer with a color palette for the 2020 Dry and Wet Seasons\n",
    "\n",
    "# Calculate NDWI                 \n",
    "ndwi_dry = image_dry.normalizedDifference(['B3', 'B8']);\n",
    "ndwi_wet = image_wet.normalizedDifference(['B3', 'B8']);\n",
    "\n",
    "ndwi_Palette = ['red', 'yellow', 'green', 'blue'];\n",
    "vis_params = {\n",
    "  'min': -1,\n",
    "  'max': 0.5,\n",
    "  'palette': ndwi_Palette}\n",
    "\n",
    "\n",
    "Map1 = geemap.Map(center=[21.5,105], zoom= 9)\n",
    "Map1.addLayer(ndwi_dry, vis_params, '2019 Dry season NDWI');\n",
    "Map1.addLayer(ndwi_wet, vis_params, '2019 Wet season NDWI');\n",
    "Map1.add_colorbar(vis_params, label=\"NDWI\", layer_name=\"NDWI\")\n",
    "Map1"
   ]
  },
  {
   "cell_type": "code",
   "execution_count": null,
   "metadata": {},
   "outputs": [],
   "source": []
  }
 ],
 "metadata": {
  "colab": {
   "authorship_tag": "ABX9TyMdf8PCtjymtVbzvzulR1Jt",
   "collapsed_sections": [],
   "name": "10_Get_Started_with_EE.ipynb",
   "provenance": [],
   "toc_visible": true
  },
  "kernelspec": {
   "display_name": "Python 3",
   "language": "python",
   "name": "python3"
  },
  "language_info": {
   "codemirror_mode": {
    "name": "ipython",
    "version": 3
   },
   "file_extension": ".py",
   "mimetype": "text/x-python",
   "name": "python",
   "nbconvert_exporter": "python",
   "pygments_lexer": "ipython3",
   "version": "3.6.8"
  }
 },
 "nbformat": 4,
 "nbformat_minor": 1
}
